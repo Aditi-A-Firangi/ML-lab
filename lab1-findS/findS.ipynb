{
 "cells": [
  {
   "cell_type": "code",
   "execution_count": 9,
   "id": "a60d22ff",
   "metadata": {},
   "outputs": [
    {
     "name": "stdout",
     "output_type": "stream",
     "text": [
      "     sky air temp humidity    wind water forecast enjoy sport\n",
      "0  sunny     warm   normal  strong  warm     same         yes\n",
      "1  sunny     warm     high  strong  warm     same         yes\n",
      "2  rainy     cold     high  strong  warm   change          no\n",
      "3  sunny     warm     high  strong  cool   change         yes \n",
      "\n",
      "\n",
      " The attributes are: \n",
      " [['sunny' 'warm' 'normal' 'strong' 'warm' 'same']\n",
      " ['sunny' 'warm' 'high' 'strong' 'warm' 'same']\n",
      " ['rainy' 'cold' 'high' 'strong' 'warm' 'change']\n",
      " ['sunny' 'warm' 'high' 'strong' 'cool' 'change']]\n",
      "\n",
      " The target concept is:  ['yes' 'yes' 'no' 'yes']\n",
      "\n",
      " The final hypothesis is: ['sunny' 'warm' '?' 'strong' '?' '?']\n"
     ]
    }
   ],
   "source": [
    "import numpy as np\n",
    "import pandas as pd\n",
    "\n",
    "data = pd.read_csv(r\"C:\\Users\\admin\\Downloads\\data.csv\")\n",
    "print(data,\"\\n\")\n",
    "\n",
    "d = np.array(data)[:,:-1]\n",
    "print(\"\\n The attributes are: \\n\",d)\n",
    "tc = np.array(data)[:,-1]\n",
    "print(\"\\n The target concept is: \",tc)\n",
    " \n",
    " \n",
    "def findS(c,t):\n",
    "    for i, ex in enumerate(t):\n",
    "        if ex == \"yes\":\n",
    "            more_specific_hypo = c[i].copy()\n",
    "            break\n",
    "             \n",
    "    for i, a in enumerate(c):\n",
    "        if t[i] == \"yes\":\n",
    "            for x in range(len(more_specific_hypo)):\n",
    "                if a[x] != more_specific_hypo[x]:\n",
    "                    more_specific_hypo[x] = '?'\n",
    "                else:\n",
    "                    pass\n",
    "                 \n",
    "    return more_specific_hypo\n",
    " \n",
    "print(\"\\n The final hypothesis is:\",findS(d,tc))"
   ]
  },
  {
   "cell_type": "code",
   "execution_count": null,
   "id": "668fdcb0",
   "metadata": {},
   "outputs": [],
   "source": []
  },
  {
   "cell_type": "code",
   "execution_count": null,
   "id": "b7f6c560",
   "metadata": {},
   "outputs": [],
   "source": []
  }
 ],
 "metadata": {
  "kernelspec": {
   "display_name": "Python 3 (ipykernel)",
   "language": "python",
   "name": "python3"
  },
  "language_info": {
   "codemirror_mode": {
    "name": "ipython",
    "version": 3
   },
   "file_extension": ".py",
   "mimetype": "text/x-python",
   "name": "python",
   "nbconvert_exporter": "python",
   "pygments_lexer": "ipython3",
   "version": "3.9.7"
  }
 },
 "nbformat": 4,
 "nbformat_minor": 5
}
