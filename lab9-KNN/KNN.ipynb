{
 "cells": [
  {
   "cell_type": "code",
   "execution_count": 3,
   "id": "39d0f2bc",
   "metadata": {},
   "outputs": [
    {
     "name": "stdout",
     "output_type": "stream",
     "text": [
      "   sepal-length  sepal-width  petal-length  petal-width\n",
      "0           5.1          3.5           1.4          0.2\n",
      "1           4.9          3.0           1.4          0.2\n",
      "2           4.7          3.2           1.3          0.2\n",
      "3           4.6          3.1           1.5          0.2\n",
      "4           5.0          3.6           1.4          0.2\n",
      "\n",
      "-------------------------------------------------------------------------\n",
      "Original Label            Predicted Label           Correct/Wrong            \n",
      "-------------------------------------------------------------------------\n",
      "Iris-setosa               Iris-setosa               Correct                  \n",
      "Iris-setosa               Iris-setosa               Correct                  \n",
      "Iris-virginica            Iris-virginica            Correct                  \n",
      "Iris-versicolor           Iris-versicolor           Correct                  \n",
      "Iris-setosa               Iris-setosa               Correct                  \n",
      "Iris-virginica            Iris-virginica            Correct                  \n",
      "Iris-virginica            Iris-virginica            Correct                  \n",
      "Iris-versicolor           Iris-versicolor           Correct                  \n",
      "Iris-setosa               Iris-setosa               Correct                  \n",
      "Iris-virginica            Iris-virginica            Correct                  \n",
      "Iris-versicolor           Iris-versicolor           Correct                  \n",
      "-------------------------------------------------------------------------\n",
      "\n",
      "Classification Report:\n",
      "                  precision    recall  f1-score   support\n",
      "\n",
      "    Iris-setosa       1.00      1.00      1.00         4\n",
      "Iris-versicolor       1.00      1.00      1.00         3\n",
      " Iris-virginica       1.00      1.00      1.00         4\n",
      "\n",
      "       accuracy                           1.00        11\n",
      "      macro avg       1.00      1.00      1.00        11\n",
      "   weighted avg       1.00      1.00      1.00        11\n",
      "\n",
      "-------------------------------------------------------------------------\n",
      "Accuracy of the classifer is 1.00\n"
     ]
    }
   ],
   "source": [
    "import numpy as np \n",
    "import pandas as pd\n",
    "from sklearn.neighbors import KNeighborsClassifier\n",
    "from sklearn.model_selection import train_test_split  \n",
    "from sklearn import metrics\n",
    "\n",
    "names = ['sepal-length', 'sepal-width', 'petal-length', 'petal-width', 'Class']\n",
    "\n",
    "# Read dataset to pandas dataframe\n",
    "dataset = pd.read_csv(r\"C:\\Users\\admin\\Downloads\\lab9-KNN\\iris.csv\", names=names)\n",
    "X = dataset.iloc[:, :-1]  \n",
    "y = dataset.iloc[:, -1]\n",
    "print(X.head())\n",
    "Xtrain, Xtest, ytrain, ytest = train_test_split(X, y, test_size=0.10) \n",
    "\n",
    "classifier = KNeighborsClassifier(n_neighbors=5).fit(Xtrain, ytrain) \n",
    "\n",
    "ypred = classifier.predict(Xtest)\n",
    "\n",
    "i = 0\n",
    "print (\"\\n-------------------------------------------------------------------------\")\n",
    "print ('%-25s %-25s %-25s' % ('Original Label', 'Predicted Label', 'Correct/Wrong'))\n",
    "print (\"-------------------------------------------------------------------------\")\n",
    "for label in ytest:\n",
    "    print ('%-25s %-25s' % (label, ypred[i]), end=\"\")\n",
    "    if (label == ypred[i]):\n",
    "        print (' %-25s' % ('Correct'))\n",
    "    else:\n",
    "        print (' %-25s' % ('Wrong'))\n",
    "    i = i + 1\n",
    "\n",
    "print (\"-------------------------------------------------------------------------\")\n",
    "print(\"\\nClassification Report:\\n\",metrics.classification_report(ytest, ypred)) \n",
    "print (\"-------------------------------------------------------------------------\")\n",
    "print('Accuracy of the classifer is %0.2f' % metrics.accuracy_score(ytest,ypred))"
   ]
  },
  {
   "cell_type": "code",
   "execution_count": null,
   "id": "db6161e1",
   "metadata": {},
   "outputs": [],
   "source": []
  }
 ],
 "metadata": {
  "kernelspec": {
   "display_name": "Python 3 (ipykernel)",
   "language": "python",
   "name": "python3"
  },
  "language_info": {
   "codemirror_mode": {
    "name": "ipython",
    "version": 3
   },
   "file_extension": ".py",
   "mimetype": "text/x-python",
   "name": "python",
   "nbconvert_exporter": "python",
   "pygments_lexer": "ipython3",
   "version": "3.9.7"
  }
 },
 "nbformat": 4,
 "nbformat_minor": 5
}
